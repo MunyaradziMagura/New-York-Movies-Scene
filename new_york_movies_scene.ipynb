{
 "cells": [
  {
   "cell_type": "code",
   "execution_count": 6,
   "id": "d3df1ea9",
   "metadata": {},
   "outputs": [
    {
     "name": "stdout",
     "output_type": "stream",
     "text": [
      "   EventID        EventType           StartDateTime             EndDateTime  \\\n",
      "0   446040  Shooting Permit  10/19/2018 02:00:00 PM  10/20/2018 04:00:00 AM   \n",
      "\n",
      "                EnteredOn                                     EventAgency  \\\n",
      "0  10/16/2018 11:57:27 AM  Mayor's Office of Film, Theatre & Broadcasting   \n",
      "\n",
      "                                         ParkingHeld    Borough  \\\n",
      "0  THOMPSON STREET between PRINCE STREET and SPRI...  Manhattan   \n",
      "\n",
      "  CommunityBoard(s) PolicePrecinct(s)    Category SubCategoryName  \\\n",
      "0                 2                 1  Television  Cable-episodic   \n",
      "\n",
      "                    Country ZipCode(s)  \n",
      "0  United States of America      10012  \n"
     ]
    }
   ],
   "source": [
    "import pandas as pd\n",
    "\n",
    "movie_scene = pd.read_csv('Film_Permits.csv')\n",
    "print(movie_scene.head(1))"
   ]
  },
  {
   "cell_type": "code",
   "execution_count": 2,
   "id": "a4819138",
   "metadata": {},
   "outputs": [
    {
     "ename": "NameError",
     "evalue": "name 'movie_scene' is not defined",
     "output_type": "error",
     "traceback": [
      "\u001b[1;31m---------------------------------------------------------------------------\u001b[0m",
      "\u001b[1;31mNameError\u001b[0m                                 Traceback (most recent call last)",
      "\u001b[1;32mC:\\Users\\UNIVER~1\\AppData\\Local\\Temp/ipykernel_37280/2517598180.py\u001b[0m in \u001b[0;36m<module>\u001b[1;34m\u001b[0m\n\u001b[1;32m----> 1\u001b[1;33m \u001b[0mprint\u001b[0m\u001b[1;33m(\u001b[0m\u001b[0mmovie_scene\u001b[0m\u001b[1;33m.\u001b[0m\u001b[0mhead\u001b[0m\u001b[1;33m(\u001b[0m\u001b[1;36m5\u001b[0m\u001b[1;33m)\u001b[0m\u001b[1;33m)\u001b[0m\u001b[1;33m\u001b[0m\u001b[1;33m\u001b[0m\u001b[0m\n\u001b[0m",
      "\u001b[1;31mNameError\u001b[0m: name 'movie_scene' is not defined"
     ]
    }
   ],
   "source": []
  },
  {
   "cell_type": "code",
   "execution_count": null,
   "id": "30a2e8f0",
   "metadata": {},
   "outputs": [],
   "source": []
  }
 ],
 "metadata": {
  "kernelspec": {
   "display_name": "Python 3 (ipykernel)",
   "language": "python",
   "name": "python3"
  },
  "language_info": {
   "codemirror_mode": {
    "name": "ipython",
    "version": 3
   },
   "file_extension": ".py",
   "mimetype": "text/x-python",
   "name": "python",
   "nbconvert_exporter": "python",
   "pygments_lexer": "ipython3",
   "version": "3.9.7"
  }
 },
 "nbformat": 4,
 "nbformat_minor": 5
}
