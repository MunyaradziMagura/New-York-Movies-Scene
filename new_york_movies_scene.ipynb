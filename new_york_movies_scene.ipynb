{
 "cells": [
  {
   "cell_type": "markdown",
   "id": "e1a96826",
   "metadata": {},
   "source": [
    "# New York Movies Scene\n"
   ]
  },
  {
   "cell_type": "code",
   "execution_count": 1,
   "id": "d3df1ea9",
   "metadata": {},
   "outputs": [],
   "source": [
    "import pandas as pd\n",
    "import numpy as np\n",
    "from pandas import Series, DataFrame"
   ]
  },
  {
   "cell_type": "code",
   "execution_count": 5,
   "id": "cb56b7cc",
   "metadata": {},
   "outputs": [],
   "source": [
    "df = pd.read_csv('Film_Permits.csv',skipinitialspace = True)\n",
    "df = pd.DataFrame(df)\n",
    "df.dropna(inplace=True)"
   ]
  },
  {
   "cell_type": "code",
   "execution_count": 6,
   "id": "ab0ddfa5",
   "metadata": {
    "scrolled": false
   },
   "outputs": [],
   "source": [
    "#clean CommunityBoard and PolicePrecinct\n",
    "def setMean(columns):\n",
    "    mean = []\n",
    "    for cell in df[columns]:\n",
    "    #     cell to string\n",
    "        getCell = str(cell)\n",
    "        #   if the first character is not a number remove it\n",
    "        if getCell[0].isnumeric() == False:\n",
    "            getCell = getCell[1:]\n",
    "    #     cell to numpy array seperated by comma\n",
    "        seperateCell = np.array(np.fromstring(getCell, dtype=int, sep=','))\n",
    "    #     appaned mean\n",
    "        mean.append(int(np.mean(seperateCell)))\n",
    "    return mean\n",
    "\n",
    "# clean Zipcodes\n",
    "def setZip(code):\n",
    "    postCode = []\n",
    "    for zipcode in df['ZipCode(s)']:\n",
    "        getZip = str(zipcode)\n",
    "        # check if , is in the string\n",
    "        if \",\" in getZip:\n",
    "            # slicing off after length computation\n",
    "            res = getZip[:getZip.index(',') + len(',') -1]\n",
    "            postCode.append(int(res))\n",
    "        else:\n",
    "            postCode.append(int(getZip))\n",
    "    return postCode"
   ]
  },
  {
   "cell_type": "code",
   "execution_count": 7,
   "id": "c4ab67d1",
   "metadata": {},
   "outputs": [
    {
     "data": {
      "text/plain": [
       "(74430, 14)"
      ]
     },
     "execution_count": 7,
     "metadata": {},
     "output_type": "execute_result"
    }
   ],
   "source": [
    "movie_scene = df\n",
    "# remove spaces\n",
    "movie_scene['CommunityBoard(s)'] = movie_scene['CommunityBoard(s)'].str.replace(' ','')\n",
    "movie_scene['PolicePrecinct(s)'] = movie_scene['PolicePrecinct(s)'].str.replace(' ','')\n",
    "# convert muitple CommunityBoard & PolicePrecinct to mean and set coloumn values as mean\n",
    "movie_scene['CommunityBoard(s)'] =  setMean('CommunityBoard(s)')\n",
    "movie_scene['PolicePrecinct(s)'] = setMean('PolicePrecinct(s)')\n",
    "# convert multiple zipcodes to one zip code and replace zip code coloumn\n",
    "movie_scene['ZipCode(s)'] = setZip('ZipCode(s)')\n",
    "movie_scene.shape"
   ]
  },
  {
   "cell_type": "code",
   "execution_count": null,
   "id": "ef853f49",
   "metadata": {},
   "outputs": [],
   "source": []
  }
 ],
 "metadata": {
  "kernelspec": {
   "display_name": "Python 3 (ipykernel)",
   "language": "python",
   "name": "python3"
  },
  "language_info": {
   "codemirror_mode": {
    "name": "ipython",
    "version": 3
   },
   "file_extension": ".py",
   "mimetype": "text/x-python",
   "name": "python",
   "nbconvert_exporter": "python",
   "pygments_lexer": "ipython3",
   "version": "3.9.7"
  }
 },
 "nbformat": 4,
 "nbformat_minor": 5
}
