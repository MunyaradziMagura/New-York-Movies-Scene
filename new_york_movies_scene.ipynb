{
 "cells": [
  {
   "cell_type": "code",
   "execution_count": 3,
   "id": "d3df1ea9",
   "metadata": {},
   "outputs": [
    {
     "name": "stdout",
     "output_type": "stream",
     "text": [
      "   EventID        EventType           StartDateTime             EndDateTime  \\\n",
      "0   446040  Shooting Permit  10/19/2018 02:00:00 PM  10/20/2018 04:00:00 AM   \n",
      "\n",
      "                EnteredOn                                     EventAgency  \\\n",
      "0  10/16/2018 11:57:27 AM  Mayor's Office of Film, Theatre & Broadcasting   \n",
      "\n",
      "                                         ParkingHeld    Borough  \\\n",
      "0  THOMPSON STREET between PRINCE STREET and SPRI...  Manhattan   \n",
      "\n",
      "  CommunityBoard(s) PolicePrecinct(s)    Category SubCategoryName  \\\n",
      "0                 2                 1  Television  Cable-episodic   \n",
      "\n",
      "                    Country ZipCode(s)  \n",
      "0  United States of America      10012  \n"
     ]
    }
   ],
   "source": [
    "import pandas as pd\n",
    "movie_scene = pd.read_csv('Film_Permits.csv')\n",
    "print(movie_scene.head(1))"
   ]
  }
 ],
 "metadata": {
  "kernelspec": {
   "display_name": "Python 3 (ipykernel)",
   "language": "python",
   "name": "python3"
  },
  "language_info": {
   "codemirror_mode": {
    "name": "ipython",
    "version": 3
   },
   "file_extension": ".py",
   "mimetype": "text/x-python",
   "name": "python",
   "nbconvert_exporter": "python",
   "pygments_lexer": "ipython3",
   "version": "3.9.7"
  }
 },
 "nbformat": 4,
 "nbformat_minor": 5
}
