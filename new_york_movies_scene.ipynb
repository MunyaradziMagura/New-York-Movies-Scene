{
 "cells": [
  {
   "cell_type": "markdown",
   "id": "6b07cd81",
   "metadata": {},
   "source": [
    "# New York Movies Scene\n"
   ]
  },
  {
   "cell_type": "code",
   "execution_count": 1,
   "id": "d3df1ea9",
   "metadata": {},
   "outputs": [],
   "source": [
    "import pandas as pd\n",
    "import numpy as np\n",
    "from pandas import Series, DataFrame\n",
    "movie_scene = pd.read_csv('Film_Permits.csv',skipinitialspace = True)\n",
    "movie_scene = pd.DataFrame(movie_scene)"
   ]
  },
  {
   "cell_type": "code",
   "execution_count": 2,
   "id": "3ad7b69f",
   "metadata": {},
   "outputs": [],
   "source": [
    "movie_scene.dropna(inplace=True)"
   ]
  },
  {
   "cell_type": "code",
   "execution_count": 3,
   "id": "c036adb5",
   "metadata": {},
   "outputs": [],
   "source": [
    "clean_movie_scene = movie_scene\n",
    "clean_movie_scene['CommunityBoard(s)'] = clean_movie_scene['CommunityBoard(s)'].str.replace(' ','')\n",
    "clean_movie_scene['PolicePrecinct(s)'] = clean_movie_scene['PolicePrecinct(s)'].str.replace(' ','')"
   ]
  },
  {
   "cell_type": "code",
   "execution_count": 4,
   "id": "ea1da26f",
   "metadata": {
    "scrolled": true
   },
   "outputs": [
    {
     "ename": "TypeError",
     "evalue": "setMean() got an unexpected keyword argument 'inplace'",
     "output_type": "error",
     "traceback": [
      "\u001b[1;31m---------------------------------------------------------------------------\u001b[0m",
      "\u001b[1;31mTypeError\u001b[0m                                 Traceback (most recent call last)",
      "\u001b[1;32mC:\\Users\\UNIVER~1\\AppData\\Local\\Temp/ipykernel_23580/508430090.py\u001b[0m in \u001b[0;36m<module>\u001b[1;34m\u001b[0m\n\u001b[0;32m     28\u001b[0m     \u001b[1;32mreturn\u001b[0m \u001b[0mpostCode\u001b[0m\u001b[1;33m\u001b[0m\u001b[1;33m\u001b[0m\u001b[0m\n\u001b[0;32m     29\u001b[0m \u001b[1;33m\u001b[0m\u001b[0m\n\u001b[1;32m---> 30\u001b[1;33m \u001b[0mclean_movie_scene\u001b[0m\u001b[1;33m[\u001b[0m\u001b[1;34m'CommunityBoard(s)'\u001b[0m\u001b[1;33m]\u001b[0m \u001b[1;33m=\u001b[0m  \u001b[0msetMean\u001b[0m\u001b[1;33m(\u001b[0m\u001b[1;34m'CommunityBoard(s)'\u001b[0m\u001b[1;33m,\u001b[0m\u001b[0minplace\u001b[0m\u001b[1;33m=\u001b[0m\u001b[1;32mTrue\u001b[0m\u001b[1;33m)\u001b[0m\u001b[1;33m\u001b[0m\u001b[1;33m\u001b[0m\u001b[0m\n\u001b[0m\u001b[0;32m     31\u001b[0m \u001b[0mclean_movie_scene\u001b[0m\u001b[1;33m[\u001b[0m\u001b[1;34m'PolicePrecinct(s)'\u001b[0m\u001b[1;33m]\u001b[0m \u001b[1;33m=\u001b[0m \u001b[0msetMean\u001b[0m\u001b[1;33m(\u001b[0m\u001b[1;34m'PolicePrecinct(s)'\u001b[0m\u001b[1;33m,\u001b[0m\u001b[0minplace\u001b[0m\u001b[1;33m=\u001b[0m\u001b[1;32mTrue\u001b[0m\u001b[1;33m)\u001b[0m\u001b[1;33m\u001b[0m\u001b[1;33m\u001b[0m\u001b[0m\n\u001b[0;32m     32\u001b[0m \u001b[0mclean_movie_scene\u001b[0m\u001b[1;33m[\u001b[0m\u001b[1;34m'ZipCode(s)'\u001b[0m\u001b[1;33m]\u001b[0m \u001b[1;33m=\u001b[0m \u001b[0msetZip\u001b[0m\u001b[1;33m(\u001b[0m\u001b[1;34m'ZipCode(s)'\u001b[0m\u001b[1;33m,\u001b[0m\u001b[0minplace\u001b[0m\u001b[1;33m=\u001b[0m\u001b[1;32mTrue\u001b[0m\u001b[1;33m)\u001b[0m\u001b[1;33m\u001b[0m\u001b[1;33m\u001b[0m\u001b[0m\n",
      "\u001b[1;31mTypeError\u001b[0m: setMean() got an unexpected keyword argument 'inplace'"
     ]
    }
   ],
   "source": [
    "#clean CommunityBoard and PolicePrecinct\n",
    "def setMean(columns):\n",
    "    mean = []\n",
    "    for cell in clean_movie_scene[columns]:\n",
    "    #     cell to string\n",
    "        getCell = str(cell)\n",
    "        #   if the first character is not a number remove it\n",
    "        if getCell[0].isnumeric() == False:\n",
    "            getCell = getCell[1:]\n",
    "    #     cell to numpy array seperated by comma\n",
    "        seperateCell = np.array(np.fromstring(getCell, dtype=int, sep=','))\n",
    "    #     appaned mean\n",
    "        mean.append(int(np.mean(seperateCell)))\n",
    "    return mean\n",
    "\n",
    "# clean Zipcodes\n",
    "def setZip(code):\n",
    "    postCode = []\n",
    "    for zipcode in clean_movie_scene['ZipCode(s)']:\n",
    "        getZip = str(zipcode)\n",
    "        # check if , is in the string\n",
    "        if \",\" in getZip:\n",
    "            # slicing off after length computation\n",
    "            res = getZip[:getZip.index(',') + len(',') -1]\n",
    "            postCode.append(res)\n",
    "        else:\n",
    "            postCode.append(getZip)\n",
    "    return postCode\n",
    "\n",
    "clean_movie_scene['CommunityBoard(s)'] =  setMean('CommunityBoard(s)')\n",
    "clean_movie_scene['PolicePrecinct(s)'] = setMean('PolicePrecinct(s)')\n",
    "clean_movie_scene['ZipCode(s)'] = setZip('ZipCode(s)')\n",
    "clean_movie_scene"
   ]
  },
  {
   "cell_type": "code",
   "execution_count": null,
   "id": "bf5fd619",
   "metadata": {},
   "outputs": [],
   "source": []
  }
 ],
 "metadata": {
  "kernelspec": {
   "display_name": "Python 3 (ipykernel)",
   "language": "python",
   "name": "python3"
  },
  "language_info": {
   "codemirror_mode": {
    "name": "ipython",
    "version": 3
   },
   "file_extension": ".py",
   "mimetype": "text/x-python",
   "name": "python",
   "nbconvert_exporter": "python",
   "pygments_lexer": "ipython3",
   "version": "3.9.7"
  }
 },
 "nbformat": 4,
 "nbformat_minor": 5
}
